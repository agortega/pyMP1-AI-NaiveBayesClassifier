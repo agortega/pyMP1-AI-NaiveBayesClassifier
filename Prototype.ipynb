{
 "worksheets": [
  {
   "cells": [
    {
     "cell_type": "code",
     "execution_count": null,
     "metadata": {},
     "outputs": [],
     "input": [
      "test\n"
     ],
     "language": "python"
    },
    {
     "cell_type": "code",
     "execution_count": null,
     "outputs": [],
     "input": [
      ""
     ],
     "language": "python"
    }
   ]
  }
 ],
 "cells": [],
 "metadata": {
  "name": ""
 },
 "nbformat": 4,
 "nbformat_minor": 0
}